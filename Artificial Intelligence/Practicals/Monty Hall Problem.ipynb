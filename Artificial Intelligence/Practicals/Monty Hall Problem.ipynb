{
 "cells": [
  {
   "cell_type": "code",
   "execution_count": 1,
   "metadata": {},
   "outputs": [
    {
     "name": "stderr",
     "output_type": "stream",
     "text": [
      "c:\\Users\\DEEP\\AppData\\Local\\Programs\\Python\\Python311\\Lib\\site-packages\\tqdm\\auto.py:21: TqdmWarning: IProgress not found. Please update jupyter and ipywidgets. See https://ipywidgets.readthedocs.io/en/stable/user_install.html\n",
      "  from .autonotebook import tqdm as notebook_tqdm\n"
     ]
    },
    {
     "data": {
      "text/plain": [
       "[<TabularCPD representing P(C:3) at 0x2816ac9de10>,\n",
       " <TabularCPD representing P(P:3) at 0x2817ab1ba90>,\n",
       " <TabularCPD representing P(H:3 | C:3, P:3) at 0x2817ab09350>]"
      ]
     },
     "execution_count": 1,
     "metadata": {},
     "output_type": "execute_result"
    }
   ],
   "source": [
    "from pgmpy.models import BayesianNetwork\n",
    "from pgmpy.factors.discrete import TabularCPD\n",
    "\n",
    "# Defining the network structure\n",
    "model = BayesianNetwork([(\"C\", \"H\"), (\"P\", \"H\")])\n",
    "\n",
    "# Defining the CPDs:\n",
    "cpd_c = TabularCPD(\"C\", 3, [[0.33], [0.33], [0.33]])\n",
    "cpd_p = TabularCPD(\"P\", 3, [[0.33], [0.33], [0.33]])\n",
    "cpd_h = TabularCPD(\n",
    "    \"H\",\n",
    "    3,\n",
    "    [\n",
    "        [0, 0, 0, 0, 0.5, 1, 0, 1, 0.5],\n",
    "        [0.5, 0, 1, 0, 0, 0, 1, 0, 0.5],\n",
    "        [0.5, 1, 0, 1, 0.5, 0, 0, 0, 0],\n",
    "    ],\n",
    "    evidence=[\"C\", \"P\"],\n",
    "    evidence_card=[3, 3],\n",
    ")\n",
    "\n",
    "# Associating the CPDs with the network structure.\n",
    "model.add_cpds(cpd_c, cpd_p, cpd_h)\n",
    "\n",
    "# Some other methods\n",
    "model.get_cpds()"
   ]
  }
 ],
 "metadata": {
  "kernelspec": {
   "display_name": "Python 3",
   "language": "python",
   "name": "python3"
  },
  "language_info": {
   "codemirror_mode": {
    "name": "ipython",
    "version": 3
   },
   "file_extension": ".py",
   "mimetype": "text/x-python",
   "name": "python",
   "nbconvert_exporter": "python",
   "pygments_lexer": "ipython3",
   "version": "3.11.2"
  }
 },
 "nbformat": 4,
 "nbformat_minor": 0
}
