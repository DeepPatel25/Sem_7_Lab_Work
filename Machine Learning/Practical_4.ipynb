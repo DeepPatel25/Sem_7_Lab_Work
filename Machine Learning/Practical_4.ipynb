{
 "cells": [
  {
   "cell_type": "code",
   "execution_count": 5,
   "metadata": {},
   "outputs": [],
   "source": [
    "# Input\n",
    "\n",
    "a = [1, 2, 3, 4, 5, 6, 7, 8, 9, 10]\n",
    "b = [1, 3, 5, 7, 9, 7, 5, 3, 1, 0]\n",
    "x = [1, 2, 3, 4, 5, 6, 7, 8, 9, 10]\n",
    "y = [1, 3, 5, 7, 9, 7, 5, 3, 1, 0]"
   ]
  },
  {
   "cell_type": "code",
   "execution_count": 6,
   "metadata": {},
   "outputs": [
    {
     "name": "stdout",
     "output_type": "stream",
     "text": [
      "Cosine of a and b is :- 0.6621003580727145\n",
      "Cosine of x and y is :- 0.6621003580727145\n"
     ]
    }
   ],
   "source": [
    "# Cosine\n",
    "\n",
    "import math\n",
    "\n",
    "def CalculateCosine(list1, list2):\n",
    "    listLen = len(list1)\n",
    "\n",
    "    dotProduct = 0\n",
    "    magnitudeOfList1 = 0\n",
    "    magnitudeOfList2 = 0\n",
    "\n",
    "    for index in range(listLen):\n",
    "        dotProduct += (list1[index] * list2[index])\n",
    "        magnitudeOfList1 += (list1[index] ** 2)\n",
    "        magnitudeOfList2 += (list2[index] ** 2)\n",
    "    \n",
    "    return dotProduct / (math.sqrt(magnitudeOfList1) * math.sqrt(magnitudeOfList2))\n",
    "\n",
    "print(\"Cosine of a and b is :-\", CalculateCosine(a, b))\n",
    "print(\"Cosine of x and y is :-\", CalculateCosine(x, y))"
   ]
  },
  {
   "cell_type": "code",
   "execution_count": 7,
   "metadata": {},
   "outputs": [
    {
     "name": "stdout",
     "output_type": "stream",
     "text": [
      "Euclidean of a and b is :- 14.966629547095765\n",
      "Euclidean of x and y is :- 14.966629547095765\n"
     ]
    }
   ],
   "source": [
    "# Euclidean\n",
    "\n",
    "def CalculateEuclidean(list1, list2):\n",
    "    listLen = len(list1)\n",
    "\n",
    "    euclideanSum = 0\n",
    "\n",
    "    for index in range(listLen):\n",
    "        euclideanSum += ((list1[index] - list2[index]) ** 2)\n",
    "\n",
    "    return math.sqrt(euclideanSum)\n",
    "\n",
    "print(\"Euclidean of a and b is :-\", CalculateEuclidean(a, b))\n",
    "print(\"Euclidean of x and y is :-\", CalculateEuclidean(x, y))"
   ]
  }
 ],
 "metadata": {
  "kernelspec": {
   "display_name": "Python 3",
   "language": "python",
   "name": "python3"
  },
  "language_info": {
   "codemirror_mode": {
    "name": "ipython",
    "version": 3
   },
   "file_extension": ".py",
   "mimetype": "text/x-python",
   "name": "python",
   "nbconvert_exporter": "python",
   "pygments_lexer": "ipython3",
   "version": "3.11.2"
  },
  "orig_nbformat": 4
 },
 "nbformat": 4,
 "nbformat_minor": 2
}
