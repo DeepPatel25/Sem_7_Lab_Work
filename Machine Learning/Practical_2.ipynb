{
 "cells": [
  {
   "cell_type": "code",
   "execution_count": 4,
   "metadata": {},
   "outputs": [],
   "source": [
    "# Input\n",
    "\n",
    "x1 = [1, 2, 3, 4, 5, 4, 3, 2, 4, 5, 1, 2, 3, 4, 2, 5, 1, 3, 2, 1, 2, 1, 1, 1, 2]\n",
    "x2 = [1, 2, 3, 4, 5, 4, 3, 2, 4, 5, 1, 2, 3, 4, 2, 5, 1, 3, 2, 1, 2, 1, 1, 1, 2000]\n",
    "x3 = [1, 2, 3, 10, 20, 30, 100, 200, 300, 1000, 2000, 3000]"
   ]
  },
  {
   "cell_type": "code",
   "execution_count": 5,
   "metadata": {},
   "outputs": [
    {
     "name": "stdout",
     "output_type": "stream",
     "text": [
      "Variance of x1 is :- 1.8463999999999996\n",
      "Variance of x2 is :- 153205.28960000002\n",
      "Variance of x3 is :- 869870.9166666666\n"
     ]
    }
   ],
   "source": [
    "# Variance\n",
    "\n",
    "def CalculateVariance(li):\n",
    "    listLen = len(li)\n",
    "    listSum = sum(li)\n",
    "\n",
    "    listMean = listSum / listLen\n",
    "\n",
    "    meanDifferenceSum = 0\n",
    "\n",
    "    for val in li:\n",
    "        meanDifferenceSum = meanDifferenceSum + ((val - listMean) ** 2)\n",
    "\n",
    "    return meanDifferenceSum / listLen\n",
    "\n",
    "print(\"Variance of x1 is :-\", CalculateVariance(x1))\n",
    "print(\"Variance of x2 is :-\", CalculateVariance(x2))\n",
    "print(\"Variance of x3 is :-\", CalculateVariance(x3))"
   ]
  },
  {
   "cell_type": "code",
   "execution_count": 6,
   "metadata": {},
   "outputs": [
    {
     "name": "stdout",
     "output_type": "stream",
     "text": [
      "Standard Deviation of x1 is :- 1.3588230201170421\n",
      "Standard Deviation of x2 is :- 391.41447290564\n",
      "Standard Deviation of x3 is :- 932.6687068121598\n"
     ]
    }
   ],
   "source": [
    "# Standard Deviation\n",
    "\n",
    "import math\n",
    "\n",
    "def CalculateStandardDeviation(li):\n",
    "    return math.sqrt(CalculateVariance(li))\n",
    "\n",
    "print(\"Standard Deviation of x1 is :-\", CalculateStandardDeviation(x1))\n",
    "print(\"Standard Deviation of x2 is :-\", CalculateStandardDeviation(x2))\n",
    "print(\"Standard Deviation of x3 is :-\", CalculateStandardDeviation(x3))"
   ]
  },
  {
   "cell_type": "code",
   "execution_count": 7,
   "metadata": {},
   "outputs": [
    {
     "data": {
      "image/png": "[encoded data removed]",
      "text/plain": [
       "<Figure size 700x350 with 1 Axes>"
      ]
     },
     "metadata": {},
     "output_type": "display_data"
    }
   ],
   "source": [
    "# Histogram\n",
    "from matplotlib import pyplot as plt\n",
    "\n",
    "# Set the figure size\n",
    "plt.rcParams[\"figure.figsize\"] = [7.00, 3.50]\n",
    "plt.rcParams[\"figure.autolayout\"] = True\n",
    "\n",
    "x4 = [1, 3, 2, 4, 5, 6, 4, 3, 2, 4, 5, 3, 1, 2, 3, 2, 3, 1, 4]\n",
    "\n",
    "categories = ['Standard Deviation', 'Variance']\n",
    "histogramList = [CalculateStandardDeviation(x4), CalculateVariance(x4)]\n",
    "\n",
    "# Plot bar chart with data points\n",
    "plt.bar(categories, histogramList)\n",
    "\n",
    "# Display the plot\n",
    "plt.show()"
   ]
  }
 ],
 "metadata": {
  "kernelspec": {
   "display_name": "Python 3",
   "language": "python",
   "name": "python3"
  },
  "language_info": {
   "codemirror_mode": {
    "name": "ipython",
    "version": 3
   },
   "file_extension": ".py",
   "mimetype": "text/x-python",
   "name": "python",
   "nbconvert_exporter": "python",
   "pygments_lexer": "ipython3",
   "version": "3.11.2"
  },
  "orig_nbformat": 4
 },
 "nbformat": 4,
 "nbformat_minor": 2
}
