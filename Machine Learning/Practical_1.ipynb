{
 "cells": [
  {
   "cell_type": "markdown",
   "metadata": {},
   "source": []
  },
  {
   "cell_type": "code",
   "execution_count": 1,
   "metadata": {},
   "outputs": [],
   "source": [
    "# Input\n",
    "\n",
    "x1 = [1, 2, 3, 4, 5, 4, 3, 2, 4, 5, 1, 2, 3, 4, 2, 5, 1, 3, 2, 1, 2, 1, 1, 1, 2]\n",
    "x2 = [1, 2, 3, 4, 5, 4, 3, 2, 4, 5, 1, 2, 3, 4, 2, 5, 1, 3, 2, 1, 2, 1, 1, 1, 2000]\n",
    "x3 = [1, 2, 3, 10, 20, 30, 100, 200, 300, 1000, 2000, 3000]"
   ]
  },
  {
   "cell_type": "code",
   "execution_count": 2,
   "metadata": {},
   "outputs": [
    {
     "name": "stdout",
     "output_type": "stream",
     "text": [
      "Mean of X1 is 2.56\n",
      "Mean of X2 is 82.48\n",
      "Mean of X3 is 555.5\n"
     ]
    }
   ],
   "source": [
    "# Mean\n",
    "\n",
    "def CalculateMean(li):\n",
    "    listLen = len(li)\n",
    "    listSum = sum(li)\n",
    "\n",
    "    return listSum / listLen\n",
    "\n",
    "print(\"Mean of X1 is\", CalculateMean(x1))\n",
    "print(\"Mean of X2 is\", CalculateMean(x2))\n",
    "print(\"Mean of X3 is\", CalculateMean(x3))"
   ]
  },
  {
   "cell_type": "code",
   "execution_count": 3,
   "metadata": {},
   "outputs": [
    {
     "name": "stdout",
     "output_type": "stream",
     "text": [
      "Median of X1 is 2\n",
      "Median of X2 is 2\n",
      "Median of X3 is 65.0\n"
     ]
    }
   ],
   "source": [
    "# Median\n",
    "\n",
    "def CalculateMedian(li):\n",
    "    listLen = len(li)\n",
    "    li.sort()\n",
    "\n",
    "    listMedian = 0\n",
    "    if listLen % 2 == 0:\n",
    "        rightVal = li[listLen // 2]\n",
    "        leftVal = li[listLen // 2 - 1]\n",
    "\n",
    "        listMedian = (leftVal + rightVal) / 2\n",
    "    else:\n",
    "        listMedian = li[listLen // 2]\n",
    "\n",
    "    return listMedian\n",
    "\n",
    "print(\"Median of X1 is\", CalculateMedian(x1))\n",
    "print(\"Median of X2 is\", CalculateMedian(x2))\n",
    "print(\"Median of X3 is\", CalculateMedian(x3))"
   ]
  },
  {
   "cell_type": "code",
   "execution_count": 4,
   "metadata": {},
   "outputs": [
    {
     "name": "stdout",
     "output_type": "stream",
     "text": [
      "For X1 Mode 1, 2\n",
      "For X2 Mode 1\n",
      "For X3 Mode not found.\n"
     ]
    }
   ],
   "source": [
    "# Mode\n",
    "\n",
    "from collections import Counter\n",
    "\n",
    "def CalculateMode(li):\n",
    "    listLen = len(li)\n",
    "    listCount = Counter(li)\n",
    "    modeDict = dict(listCount)\n",
    "\n",
    "    finalAns = [key for key, value in modeDict.items() if value == (max(list(listCount.values())))]\n",
    "\n",
    "    returnMode = \"\"\n",
    "    if len(finalAns) != listLen:\n",
    "        returnMode = ', '.join(map(str, finalAns))\n",
    "    else:\n",
    "        returnMode = \"not found.\"\n",
    "\n",
    "    return returnMode\n",
    "\n",
    "print(\"For X1 Mode\", CalculateMode(x1))\n",
    "print(\"For X2 Mode\", CalculateMode(x2))\n",
    "print(\"For X3 Mode\", CalculateMode(x3))"
   ]
  },
  {
   "cell_type": "code",
   "execution_count": 5,
   "metadata": {},
   "outputs": [
    {
     "data": {
      "image/png": "[encoded data removed]",
      "text/plain": [
       "<Figure size 700x350 with 1 Axes>"
      ]
     },
     "metadata": {},
     "output_type": "display_data"
    }
   ],
   "source": [
    "# Histogram\n",
    "from matplotlib import pyplot as plt\n",
    "\n",
    "# Set the figure size\n",
    "plt.rcParams[\"figure.figsize\"] = [7.00, 3.50]\n",
    "plt.rcParams[\"figure.autolayout\"] = True\n",
    "\n",
    "x4 = [1, 3, 2, 4, 5, 6, 4, 3, 2, 4, 5, 3, 1, 2, 3, 2, 3, 1, 4]\n",
    "\n",
    "categories = ['Mean', 'Median', 'Mode']\n",
    "histogramList = [CalculateMean(x4), int(CalculateMedian(x4)), int(CalculateMode(x4))]\n",
    "\n",
    "# Plot bar chart with data points\n",
    "plt.bar(categories, histogramList)\n",
    "\n",
    "# Display the plot\n",
    "plt.show()"
   ]
  }
 ],
 "metadata": {
  "kernelspec": {
   "display_name": "Python 3",
   "language": "python",
   "name": "python3"
  },
  "language_info": {
   "codemirror_mode": {
    "name": "ipython",
    "version": 3
   },
   "file_extension": ".py",
   "mimetype": "text/x-python",
   "name": "python",
   "nbconvert_exporter": "python",
   "pygments_lexer": "ipython3",
   "version": "3.11.2"
  },
  "orig_nbformat": 4
 },
 "nbformat": 4,
 "nbformat_minor": 2
}
