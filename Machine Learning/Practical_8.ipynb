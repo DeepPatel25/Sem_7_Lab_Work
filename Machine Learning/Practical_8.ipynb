{
 "cells": [
  {
   "cell_type": "code",
   "execution_count": 1,
   "metadata": {},
   "outputs": [],
   "source": [
    "from sklearn.tree import DecisionTreeClassifier\n",
    "from sklearn.metrics import accuracy_score\n",
    "from sklearn.model_selection import train_test_split\n",
    "import pandas as pd"
   ]
  },
  {
   "cell_type": "code",
   "execution_count": 2,
   "metadata": {},
   "outputs": [],
   "source": [
    "data = {\n",
    "    \"Outlook\": [\"Sunny\", \"Sunny\", \"Overcast\", \"Rainy\", \"Rainy\", \"Rainy\", \"Overcast\", \"Sunny\", \"Sunny\", \"Rainy\", \"Sunny\", \"Overcast\", \"Overcast\", \"Rainy\"],\n",
    "    \"Temp\": [\"Hot\", \"Hot\", \"Hot\", \"Mild\", \"Cool\", \"Cool\", \"Cool\", \"Mild\", \"Cool\", \"Mild\", \"Mild\", \"Mild\", \"Hot\", \"Mild\"],\n",
    "    \"Humidity\": [\"High\", \"High\", \"High\", \"High\", \"Normal\", \"Normal\", \"Normal\", \"High\", \"Normal\", \"Normal\", \"Normal\", \"High\", \"Normal\", \"High\"],\n",
    "    \"Windy\": [False, True, False, False, False, True, True, False, False, False, True, True, False, True],\n",
    "    \"Play\": [\"No\", \"No\", \"Yes\", \"Yes\", \"Yes\", \"No\", \"Yes\", \"No\", \"Yes\", \"Yes\", \"Yes\", \"Yes\", \"Yes\", \"No\"]\n",
    "}\n",
    "\n",
    "df = pd.DataFrame(data)\n",
    "\n",
    "df_encoded = pd.get_dummies(df, columns=[\"Outlook\", \"Temp\", \"Humidity\", \"Windy\"])"
   ]
  },
  {
   "cell_type": "code",
   "execution_count": 3,
   "metadata": {},
   "outputs": [],
   "source": [
    "X = df_encoded.drop('Play', axis=1)\n",
    "y = df_encoded['Play']\n",
    "\n",
    "X_train, X_test, y_train, y_test = train_test_split(X, y, test_size=4, random_state=42)"
   ]
  },
  {
   "cell_type": "code",
   "execution_count": 4,
   "metadata": {},
   "outputs": [],
   "source": [
    "def train_decision_tree(max_depth=None, min_samples_split=2, min_samples_leaf=1):\n",
    "    clf = DecisionTreeClassifier(max_depth=max_depth, min_samples_split=min_samples_split, min_samples_leaf=min_samples_leaf)\n",
    "    clf.fit(X_train, y_train)\n",
    "    return clf"
   ]
  },
  {
   "cell_type": "code",
   "execution_count": 5,
   "metadata": {},
   "outputs": [
    {
     "name": "stdout",
     "output_type": "stream",
     "text": [
      "Decision Tree with max_depth=None, min_samples_split=2, min_samples_leaf=1:\n",
      "Accuracy: 0.75\n",
      "Decision Tree with max_depth=3, min_samples_split=2, min_samples_leaf=1:\n",
      "Accuracy: 0.75\n",
      "Decision Tree with max_depth=None, min_samples_split=2, min_samples_leaf=2:\n",
      "Accuracy: 0.75\n"
     ]
    }
   ],
   "source": [
    "parameters = [\n",
    "    {\"max_depth\": None, \"min_samples_split\": 2, \"min_samples_leaf\": 1},\n",
    "    {\"max_depth\": 3, \"min_samples_split\": 2, \"min_samples_leaf\": 1},\n",
    "    {\"max_depth\": None, \"min_samples_split\": 2, \"min_samples_leaf\": 2},\n",
    "]\n",
    "\n",
    "for param_set in parameters:\n",
    "    max_depth = param_set[\"max_depth\"]\n",
    "    min_samples_split = param_set[\"min_samples_split\"]\n",
    "    min_samples_leaf = param_set[\"min_samples_leaf\"]\n",
    "    \n",
    "    clf = train_decision_tree(max_depth, min_samples_split, min_samples_leaf)\n",
    "    y_pred = clf.predict(X_test)\n",
    "    accuracy = accuracy_score(y_test, y_pred)\n",
    "    print(f\"Decision Tree with max_depth={max_depth}, min_samples_split={min_samples_split}, min_samples_leaf={min_samples_leaf}:\")\n",
    "    print(f\"Accuracy: {accuracy:.2f}\")"
   ]
  }
 ],
 "metadata": {
  "kernelspec": {
   "display_name": "Python 3",
   "language": "python",
   "name": "python3"
  },
  "language_info": {
   "codemirror_mode": {
    "name": "ipython",
    "version": 3
   },
   "file_extension": ".py",
   "mimetype": "text/x-python",
   "name": "python",
   "nbconvert_exporter": "python",
   "pygments_lexer": "ipython3",
   "version": "3.11.2"
  }
 },
 "nbformat": 4,
 "nbformat_minor": 2
}
